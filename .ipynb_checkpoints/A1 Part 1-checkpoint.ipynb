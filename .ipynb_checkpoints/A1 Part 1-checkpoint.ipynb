{
 "cells": [
  {
   "cell_type": "code",
   "execution_count": 3,
   "id": "537aa0c1",
   "metadata": {},
   "outputs": [],
   "source": [
    "import numpy as np\n",
    "import pandas as pd\n",
    "import random"
   ]
  },
  {
   "cell_type": "code",
   "execution_count": 43,
   "id": "d3580672",
   "metadata": {},
   "outputs": [],
   "source": [
    "ranges = []\n",
    "#stores (ai, bi)\n",
    "for i in range(5):\n",
    "    a = [random.randint(0, 50), random.randint(50, 100)]\n",
    "    ranges.append(a)"
   ]
  },
  {
   "cell_type": "code",
   "execution_count": 44,
   "id": "e5bbdd7b",
   "metadata": {},
   "outputs": [
    {
     "data": {
      "text/plain": [
       "[[20, 82], [6, 99], [26, 55], [18, 96], [18, 52]]"
      ]
     },
     "execution_count": 44,
     "metadata": {},
     "output_type": "execute_result"
    }
   ],
   "source": [
    "ranges"
   ]
  },
  {
   "cell_type": "code",
   "execution_count": 45,
   "id": "efe99ca6",
   "metadata": {},
   "outputs": [],
   "source": [
    "c = []\n",
    "for rng in ranges:\n",
    "    midpt = (rng[0]+rng[1])/2\n",
    "    c.append(midpt)"
   ]
  },
  {
   "cell_type": "code",
   "execution_count": 46,
   "id": "96795b4e",
   "metadata": {},
   "outputs": [
    {
     "data": {
      "text/plain": [
       "[51.0, 52.5, 40.5, 57.0, 35.0]"
      ]
     },
     "execution_count": 46,
     "metadata": {},
     "output_type": "execute_result"
    }
   ],
   "source": [
    "c"
   ]
  },
  {
   "cell_type": "code",
   "execution_count": 51,
   "id": "b7dc7246",
   "metadata": {},
   "outputs": [],
   "source": [
    "imp_features = random.sample(range(0, 4), 2)"
   ]
  },
  {
   "cell_type": "code",
   "execution_count": 52,
   "id": "19bacb47",
   "metadata": {},
   "outputs": [
    {
     "data": {
      "text/plain": [
       "[3, 0]"
      ]
     },
     "execution_count": 52,
     "metadata": {},
     "output_type": "execute_result"
    }
   ],
   "source": [
    "imp_features"
   ]
  },
  {
   "cell_type": "code",
   "execution_count": null,
   "id": "4f5e0b32",
   "metadata": {},
   "outputs": [],
   "source": [
    "X=[]\n",
    "y=[]\n",
    "for i in range(5):\n",
    "    "
   ]
  }
 ],
 "metadata": {
  "kernelspec": {
   "display_name": "Python 3 (ipykernel)",
   "language": "python",
   "name": "python3"
  },
  "language_info": {
   "codemirror_mode": {
    "name": "ipython",
    "version": 3
   },
   "file_extension": ".py",
   "mimetype": "text/x-python",
   "name": "python",
   "nbconvert_exporter": "python",
   "pygments_lexer": "ipython3",
   "version": "3.10.2"
  }
 },
 "nbformat": 4,
 "nbformat_minor": 5
}
